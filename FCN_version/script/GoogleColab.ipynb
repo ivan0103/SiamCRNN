{
  "cells": [
    {
      "cell_type": "code",
      "execution_count": null,
      "metadata": {
        "colab": {
          "base_uri": "https://localhost:8080/"
        },
        "id": "-lDWEMCUJDj7",
        "outputId": "ffc2d196-8b43-4392-f786-e0a13426e88d"
      },
      "outputs": [],
      "source": [
        "!git clone https://github.com/ivan0103/SiamCRNN.git"
      ]
    },
    {
      "cell_type": "code",
      "execution_count": null,
      "metadata": {},
      "outputs": [],
      "source": [
        "from google.colab import drive\n",
        "drive.mount('/content/drive')"
      ]
    },
    {
      "cell_type": "code",
      "execution_count": null,
      "metadata": {
        "colab": {
          "base_uri": "https://localhost:8080/"
        },
        "id": "U6VDG2txJD_B",
        "outputId": "6b01db5d-a6f0-4d8f-872a-b9fc8267d7b2"
      },
      "outputs": [],
      "source": [
        "%cd SiamCRNN"
      ]
    },
    {
      "cell_type": "code",
      "execution_count": null,
      "metadata": {
        "colab": {
          "base_uri": "https://localhost:8080/"
        },
        "id": "SPvD6QaoJrCR",
        "outputId": "759723b2-f8df-462a-dcc2-58831e67ecfb"
      },
      "outputs": [],
      "source": [
        "!git checkout OSCD"
      ]
    },
    {
      "cell_type": "code",
      "execution_count": null,
      "metadata": {
        "colab": {
          "base_uri": "https://localhost:8080/"
        },
        "id": "BlDfTpuiJsa3",
        "outputId": "b07d86a3-22f2-4f9f-b6db-15763af852ff"
      },
      "outputs": [],
      "source": [
        "%cd FCN_version"
      ]
    },
    {
      "cell_type": "code",
      "execution_count": null,
      "metadata": {
        "colab": {
          "base_uri": "https://localhost:8080/"
        },
        "id": "vIuoP2X3J3ij",
        "outputId": "8bb1e5da-fd16-4949-f048-f7fd98f8a67a"
      },
      "outputs": [],
      "source": [
        "!pip install -r requirments.txt"
      ]
    },
    {
      "cell_type": "code",
      "execution_count": null,
      "metadata": {
        "colab": {
          "base_uri": "https://localhost:8080/"
        },
        "id": "VVaeBLAJKWYm",
        "outputId": "4c4a4ded-f287-47a4-c527-ef97bc8ea54a"
      },
      "outputs": [],
      "source": [
        "%cd script"
      ]
    },
    {
      "cell_type": "code",
      "execution_count": null,
      "metadata": {
        "colab": {
          "base_uri": "https://localhost:8080/"
        },
        "id": "YKvIwJ2qKaPh",
        "outputId": "e6e929a8-9891-41cd-d278-2e3e0e78f9cf"
      },
      "outputs": [],
      "source": [
        "!python train_siamcrnn.py"
      ]
    }
  ],
  "metadata": {
    "accelerator": "GPU",
    "colab": {
      "gpuType": "T4",
      "provenance": []
    },
    "kernelspec": {
      "display_name": "Python 3",
      "name": "python3"
    },
    "language_info": {
      "name": "python"
    }
  },
  "nbformat": 4,
  "nbformat_minor": 0
}
